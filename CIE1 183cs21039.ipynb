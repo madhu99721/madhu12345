{
 "cells": [
  {
   "cell_type": "code",
   "execution_count": 3,
   "id": "cc0b03d1",
   "metadata": {},
   "outputs": [
    {
     "data": {
      "text/html": [
       "<div>\n",
       "<style scoped>\n",
       "    .dataframe tbody tr th:only-of-type {\n",
       "        vertical-align: middle;\n",
       "    }\n",
       "\n",
       "    .dataframe tbody tr th {\n",
       "        vertical-align: top;\n",
       "    }\n",
       "\n",
       "    .dataframe thead th {\n",
       "        text-align: right;\n",
       "    }\n",
       "</style>\n",
       "<table border=\"1\" class=\"dataframe\">\n",
       "  <thead>\n",
       "    <tr style=\"text-align: right;\">\n",
       "      <th></th>\n",
       "      <th>state</th>\n",
       "      <th>BCG</th>\n",
       "      <th>OPY3</th>\n",
       "      <th>DPI3</th>\n",
       "      <th>Measles</th>\n",
       "      <th>Hep-B3</th>\n",
       "      <th>full minimizes</th>\n",
       "    </tr>\n",
       "  </thead>\n",
       "  <tbody>\n",
       "    <tr>\n",
       "      <th>0</th>\n",
       "      <td>A &amp; n island</td>\n",
       "      <td>87.4</td>\n",
       "      <td>83.9</td>\n",
       "      <td>83.5</td>\n",
       "      <td>76.4</td>\n",
       "      <td>83.1</td>\n",
       "      <td>73.2</td>\n",
       "    </tr>\n",
       "    <tr>\n",
       "      <th>1</th>\n",
       "      <td>andra pradesh</td>\n",
       "      <td>97.3</td>\n",
       "      <td>72.3</td>\n",
       "      <td>89.0</td>\n",
       "      <td>89.4</td>\n",
       "      <td>68.8</td>\n",
       "      <td>65.3</td>\n",
       "    </tr>\n",
       "    <tr>\n",
       "      <th>2</th>\n",
       "      <td>assam</td>\n",
       "      <td>82.3</td>\n",
       "      <td>56.0</td>\n",
       "      <td>66.5</td>\n",
       "      <td>71.4</td>\n",
       "      <td>52.0</td>\n",
       "      <td>47.1</td>\n",
       "    </tr>\n",
       "    <tr>\n",
       "      <th>3</th>\n",
       "      <td>bihar</td>\n",
       "      <td>91.7</td>\n",
       "      <td>72.9</td>\n",
       "      <td>80.2</td>\n",
       "      <td>79.4</td>\n",
       "      <td>65.5</td>\n",
       "      <td>61.7</td>\n",
       "    </tr>\n",
       "    <tr>\n",
       "      <th>4</th>\n",
       "      <td>goa</td>\n",
       "      <td>100.0</td>\n",
       "      <td>92.9</td>\n",
       "      <td>94.2</td>\n",
       "      <td>96.5</td>\n",
       "      <td>85.2</td>\n",
       "      <td>88.4</td>\n",
       "    </tr>\n",
       "    <tr>\n",
       "      <th>5</th>\n",
       "      <td>haryana</td>\n",
       "      <td>92.8</td>\n",
       "      <td>75.3</td>\n",
       "      <td>76.5</td>\n",
       "      <td>79.0</td>\n",
       "      <td>54.3</td>\n",
       "      <td>62.2</td>\n",
       "    </tr>\n",
       "    <tr>\n",
       "      <th>6</th>\n",
       "      <td>karnataka</td>\n",
       "      <td>92.5</td>\n",
       "      <td>74.6</td>\n",
       "      <td>77.9</td>\n",
       "      <td>82.4</td>\n",
       "      <td>58.9</td>\n",
       "      <td>62.6</td>\n",
       "    </tr>\n",
       "    <tr>\n",
       "      <th>7</th>\n",
       "      <td>madya pradesh</td>\n",
       "      <td>91.6</td>\n",
       "      <td>63.6</td>\n",
       "      <td>73.4</td>\n",
       "      <td>79.6</td>\n",
       "      <td>56.3</td>\n",
       "      <td>53.6</td>\n",
       "    </tr>\n",
       "    <tr>\n",
       "      <th>8</th>\n",
       "      <td>mahrashtra</td>\n",
       "      <td>90.0</td>\n",
       "      <td>67.0</td>\n",
       "      <td>74.9</td>\n",
       "      <td>82.8</td>\n",
       "      <td>60.8</td>\n",
       "      <td>56.3</td>\n",
       "    </tr>\n",
       "    <tr>\n",
       "      <th>9</th>\n",
       "      <td>manipur</td>\n",
       "      <td>91.2</td>\n",
       "      <td>76.6</td>\n",
       "      <td>77.8</td>\n",
       "      <td>74.2</td>\n",
       "      <td>69.9</td>\n",
       "      <td>65.9</td>\n",
       "    </tr>\n",
       "    <tr>\n",
       "      <th>10</th>\n",
       "      <td>meghalay</td>\n",
       "      <td>86.0</td>\n",
       "      <td>71.0</td>\n",
       "      <td>74.0</td>\n",
       "      <td>71.9</td>\n",
       "      <td>62.9</td>\n",
       "      <td>61.5</td>\n",
       "    </tr>\n",
       "    <tr>\n",
       "      <th>11</th>\n",
       "      <td>ponducherry</td>\n",
       "      <td>99.9</td>\n",
       "      <td>95.4</td>\n",
       "      <td>96.0</td>\n",
       "      <td>95.4</td>\n",
       "      <td>89.4</td>\n",
       "      <td>91.3</td>\n",
       "    </tr>\n",
       "    <tr>\n",
       "      <th>12</th>\n",
       "      <td>sikkim</td>\n",
       "      <td>98.9</td>\n",
       "      <td>87.4</td>\n",
       "      <td>93.0</td>\n",
       "      <td>93.3</td>\n",
       "      <td>84.1</td>\n",
       "      <td>83.0</td>\n",
       "    </tr>\n",
       "    <tr>\n",
       "      <th>13</th>\n",
       "      <td>tamiladu</td>\n",
       "      <td>94.9</td>\n",
       "      <td>82.3</td>\n",
       "      <td>84.5</td>\n",
       "      <td>85.1</td>\n",
       "      <td>68.2</td>\n",
       "      <td>69.7</td>\n",
       "    </tr>\n",
       "    <tr>\n",
       "      <th>14</th>\n",
       "      <td>telangana</td>\n",
       "      <td>97.4</td>\n",
       "      <td>75.4</td>\n",
       "      <td>87.9</td>\n",
       "      <td>90.6</td>\n",
       "      <td>70.6</td>\n",
       "      <td>68.1</td>\n",
       "    </tr>\n",
       "    <tr>\n",
       "      <th>15</th>\n",
       "      <td>tripura</td>\n",
       "      <td>82.4</td>\n",
       "      <td>70.1</td>\n",
       "      <td>71.1</td>\n",
       "      <td>69.1</td>\n",
       "      <td>54.6</td>\n",
       "      <td>54.5</td>\n",
       "    </tr>\n",
       "    <tr>\n",
       "      <th>16</th>\n",
       "      <td>uttarkand</td>\n",
       "      <td>92.9</td>\n",
       "      <td>68.0</td>\n",
       "      <td>80.0</td>\n",
       "      <td>80.6</td>\n",
       "      <td>59.4</td>\n",
       "      <td>57.5</td>\n",
       "    </tr>\n",
       "    <tr>\n",
       "      <th>17</th>\n",
       "      <td>west bengal</td>\n",
       "      <td>97.5</td>\n",
       "      <td>87.9</td>\n",
       "      <td>87.9</td>\n",
       "      <td>92.8</td>\n",
       "      <td>86.4</td>\n",
       "      <td>84.4</td>\n",
       "    </tr>\n",
       "  </tbody>\n",
       "</table>\n",
       "</div>"
      ],
      "text/plain": [
       "            state    BCG  OPY3  DPI3  Measles  Hep-B3  full minimizes\n",
       "0    A & n island   87.4  83.9  83.5     76.4    83.1            73.2\n",
       "1   andra pradesh   97.3  72.3  89.0     89.4    68.8            65.3\n",
       "2           assam   82.3  56.0  66.5     71.4    52.0            47.1\n",
       "3           bihar   91.7  72.9  80.2     79.4    65.5            61.7\n",
       "4             goa  100.0  92.9  94.2     96.5    85.2            88.4\n",
       "5         haryana   92.8  75.3  76.5     79.0    54.3            62.2\n",
       "6       karnataka   92.5  74.6  77.9     82.4    58.9            62.6\n",
       "7   madya pradesh   91.6  63.6  73.4     79.6    56.3            53.6\n",
       "8      mahrashtra   90.0  67.0  74.9     82.8    60.8            56.3\n",
       "9         manipur   91.2  76.6  77.8     74.2    69.9            65.9\n",
       "10       meghalay   86.0  71.0  74.0     71.9    62.9            61.5\n",
       "11    ponducherry   99.9  95.4  96.0     95.4    89.4            91.3\n",
       "12         sikkim   98.9  87.4  93.0     93.3    84.1            83.0\n",
       "13       tamiladu   94.9  82.3  84.5     85.1    68.2            69.7\n",
       "14      telangana   97.4  75.4  87.9     90.6    70.6            68.1\n",
       "15        tripura   82.4  70.1  71.1     69.1    54.6            54.5\n",
       "16      uttarkand   92.9  68.0  80.0     80.6    59.4            57.5\n",
       "17    west bengal   97.5  87.9  87.9     92.8    86.4            84.4"
      ]
     },
     "execution_count": 3,
     "metadata": {},
     "output_type": "execute_result"
    }
   ],
   "source": [
    "import pandas as pd\n",
    "import numpy as np\n",
    "import matplotlib.pyplot as plt\n",
    "data={\n",
    "    'state':['A & n island','andra pradesh','assam','bihar','goa','haryana','karnataka','madya pradesh','mahrashtra','manipur','meghalay','ponducherry','sikkim','tamiladu','telangana','tripura','uttarkand','west bengal'],\n",
    "    'BCG':[87.4,97.3,82.3,91.7,100,92.8,92.5,91.6,90.0,91.2,86,99.9,98.9,94.9,97.4,82.4,92.9,97.5],\n",
    "    'OPY3':[83.9,72.3,56.0,72.9,92.9,75.3,74.6,63.6,67.0,76.6,71,95.4,87.4,82.3,75.4,70.1,68,87.9],\n",
    "    'DPI3':[83.5,89,66.5,80.2,94.2,76.5,77.9,73.4,74.9,77.8,74,96,93,84.5,87.9,71.1,80,87.9],\n",
    "    'Measles':[76.4,89.4,71.4,79.4,96.5,79,82.4,79.6,82.8,74.2,71.9,95.4,93.3,85.1,90.6,69.1,80.6,92.8],\n",
    "    'Hep-B3':[83.1,68.8,52.0,65.5,85.2,54.3,58.9,56.3,60.8,69.9,62.9,89.4,84.1,68.2,70.6,54.6,59.4,86.4],\n",
    "    'full minimizes':[73.2,65.3,47.1,61.7,88.4,62.2,62.6,53.6,56.3,65.9,61.5,91.3,83,69.7,68.1,54.5,57.5,84.4]}\n",
    "#print(data)\n",
    "df=pd.DataFrame(data=data)\n",
    "df\n",
    "print()"
   ]
  },
  {
   "cell_type": "code",
   "execution_count": 4,
   "id": "70eb5b39",
   "metadata": {},
   "outputs": [
    {
     "name": "stdout",
     "output_type": "stream",
     "text": [
      "<class 'pandas.core.frame.DataFrame'>\n",
      "RangeIndex: 18 entries, 0 to 17\n",
      "Data columns (total 7 columns):\n",
      " #   Column          Non-Null Count  Dtype  \n",
      "---  ------          --------------  -----  \n",
      " 0   state           18 non-null     object \n",
      " 1   BCG             18 non-null     float64\n",
      " 2   OPY3            18 non-null     float64\n",
      " 3   DPI3            18 non-null     float64\n",
      " 4   Measles         18 non-null     float64\n",
      " 5   Hep-B3          18 non-null     float64\n",
      " 6   full minimizes  18 non-null     float64\n",
      "dtypes: float64(6), object(1)\n",
      "memory usage: 1.1+ KB\n",
      "None\n"
     ]
    }
   ],
   "source": [
    "print(df.info())"
   ]
  },
  {
   "cell_type": "code",
   "execution_count": 5,
   "id": "48cb6146",
   "metadata": {},
   "outputs": [
    {
     "name": "stdout",
     "output_type": "stream",
     "text": [
      "           state    BCG  OPY3  DPI3  Measles  Hep-B3  full minimizes\n",
      "0   A & n island   87.4  83.9  83.5     76.4    83.1            73.2\n",
      "1  andra pradesh   97.3  72.3  89.0     89.4    68.8            65.3\n",
      "2          assam   82.3  56.0  66.5     71.4    52.0            47.1\n",
      "3          bihar   91.7  72.9  80.2     79.4    65.5            61.7\n",
      "4            goa  100.0  92.9  94.2     96.5    85.2            88.4\n"
     ]
    }
   ],
   "source": [
    "print(df.head(5))"
   ]
  },
  {
   "cell_type": "code",
   "execution_count": 6,
   "id": "8a31ffcd",
   "metadata": {},
   "outputs": [
    {
     "name": "stdout",
     "output_type": "stream",
     "text": [
      "          state   BCG  OPY3  DPI3  Measles  Hep-B3  full minimizes\n",
      "13     tamiladu  94.9  82.3  84.5     85.1    68.2            69.7\n",
      "14    telangana  97.4  75.4  87.9     90.6    70.6            68.1\n",
      "15      tripura  82.4  70.1  71.1     69.1    54.6            54.5\n",
      "16    uttarkand  92.9  68.0  80.0     80.6    59.4            57.5\n",
      "17  west bengal  97.5  87.9  87.9     92.8    86.4            84.4\n"
     ]
    }
   ],
   "source": [
    "print(df.tail(5))"
   ]
  },
  {
   "cell_type": "code",
   "execution_count": 7,
   "id": "96226d86",
   "metadata": {},
   "outputs": [
    {
     "name": "stdout",
     "output_type": "stream",
     "text": [
      "(18, 7)\n"
     ]
    }
   ],
   "source": [
    "print(df.shape)"
   ]
  },
  {
   "cell_type": "code",
   "execution_count": 8,
   "id": "dc155138",
   "metadata": {},
   "outputs": [
    {
     "name": "stdout",
     "output_type": "stream",
     "text": [
      "126\n"
     ]
    }
   ],
   "source": [
    "print(df.size)"
   ]
  },
  {
   "cell_type": "code",
   "execution_count": 9,
   "id": "fe4b303d",
   "metadata": {},
   "outputs": [
    {
     "name": "stdout",
     "output_type": "stream",
     "text": [
      "<bound method NDFrame.describe of             state    BCG  OPY3  DPI3  Measles  Hep-B3  full minimizes\n",
      "0    A & n island   87.4  83.9  83.5     76.4    83.1            73.2\n",
      "1   andra pradesh   97.3  72.3  89.0     89.4    68.8            65.3\n",
      "2           assam   82.3  56.0  66.5     71.4    52.0            47.1\n",
      "3           bihar   91.7  72.9  80.2     79.4    65.5            61.7\n",
      "4             goa  100.0  92.9  94.2     96.5    85.2            88.4\n",
      "5         haryana   92.8  75.3  76.5     79.0    54.3            62.2\n",
      "6       karnataka   92.5  74.6  77.9     82.4    58.9            62.6\n",
      "7   madya pradesh   91.6  63.6  73.4     79.6    56.3            53.6\n",
      "8      mahrashtra   90.0  67.0  74.9     82.8    60.8            56.3\n",
      "9         manipur   91.2  76.6  77.8     74.2    69.9            65.9\n",
      "10       meghalay   86.0  71.0  74.0     71.9    62.9            61.5\n",
      "11    ponducherry   99.9  95.4  96.0     95.4    89.4            91.3\n",
      "12         sikkim   98.9  87.4  93.0     93.3    84.1            83.0\n",
      "13       tamiladu   94.9  82.3  84.5     85.1    68.2            69.7\n",
      "14      telangana   97.4  75.4  87.9     90.6    70.6            68.1\n",
      "15        tripura   82.4  70.1  71.1     69.1    54.6            54.5\n",
      "16      uttarkand   92.9  68.0  80.0     80.6    59.4            57.5\n",
      "17    west bengal   97.5  87.9  87.9     92.8    86.4            84.4>\n"
     ]
    }
   ],
   "source": [
    "print(df.describe)"
   ]
  },
  {
   "cell_type": "code",
   "execution_count": 10,
   "id": "b8a6653e",
   "metadata": {},
   "outputs": [
    {
     "name": "stdout",
     "output_type": "stream",
     "text": [
      "Index             132\n",
      "state             144\n",
      "BCG               144\n",
      "OPY3              144\n",
      "DPI3              144\n",
      "Measles           144\n",
      "Hep-B3            144\n",
      "full minimizes    144\n",
      "dtype: int64\n"
     ]
    }
   ],
   "source": [
    "print(df.memory_usage())"
   ]
  },
  {
   "cell_type": "code",
   "execution_count": 12,
   "id": "a4bed587",
   "metadata": {},
   "outputs": [
    {
     "name": "stdout",
     "output_type": "stream",
     "text": [
      "1     andra pradesh\n",
      "2             assam\n",
      "3             bihar\n",
      "4               goa\n",
      "5           haryana\n",
      "6         karnataka\n",
      "7     madya pradesh\n",
      "8        mahrashtra\n",
      "9           manipur\n",
      "10         meghalay\n",
      "Name: state, dtype: object\n"
     ]
    }
   ],
   "source": [
    "print(df.loc[1:10,'state'])"
   ]
  },
  {
   "cell_type": "code",
   "execution_count": 33,
   "id": "4910ce91",
   "metadata": {},
   "outputs": [
    {
     "name": "stdout",
     "output_type": "stream",
     "text": [
      "\n",
      " average of BCG 92.59444444444445\n",
      "\n",
      " average of Opy3 76.25555555555555\n",
      "\n",
      " average of measles 82.77222222222221\n"
     ]
    }
   ],
   "source": [
    "avg_BCG=df['BCG'].mean()\n",
    "print('\\n average of BCG', avg)\n",
    "avg_Opy3=df['OPY3'].mean()\n",
    "print('\\n average of Opy3',avg_Opy3)\n",
    "avg_mesels=df['Measles'].mean()\n",
    "print('\\n average of measles',avg_mesels)"
   ]
  },
  {
   "cell_type": "code",
   "execution_count": 27,
   "id": "34b9529b",
   "metadata": {},
   "outputs": [
    {
     "name": "stdout",
     "output_type": "stream",
     "text": [
      "       DPI3                                                        ...  \\\n",
      "OPY3   56.0  63.6  67.0  68.0  70.1  71.0  72.3  72.9  74.6  75.3  ...   \n",
      "BCG                                                                ...   \n",
      "82.3   66.5   NaN   NaN   NaN   NaN   NaN   NaN   NaN   NaN   NaN  ...   \n",
      "82.4    NaN   NaN   NaN   NaN  71.1   NaN   NaN   NaN   NaN   NaN  ...   \n",
      "86.0    NaN   NaN   NaN   NaN   NaN  74.0   NaN   NaN   NaN   NaN  ...   \n",
      "87.4    NaN   NaN   NaN   NaN   NaN   NaN   NaN   NaN   NaN   NaN  ...   \n",
      "90.0    NaN   NaN  74.9   NaN   NaN   NaN   NaN   NaN   NaN   NaN  ...   \n",
      "91.2    NaN   NaN   NaN   NaN   NaN   NaN   NaN   NaN   NaN   NaN  ...   \n",
      "91.6    NaN  73.4   NaN   NaN   NaN   NaN   NaN   NaN   NaN   NaN  ...   \n",
      "91.7    NaN   NaN   NaN   NaN   NaN   NaN   NaN  80.2   NaN   NaN  ...   \n",
      "92.5    NaN   NaN   NaN   NaN   NaN   NaN   NaN   NaN  77.9   NaN  ...   \n",
      "92.8    NaN   NaN   NaN   NaN   NaN   NaN   NaN   NaN   NaN  76.5  ...   \n",
      "92.9    NaN   NaN   NaN  80.0   NaN   NaN   NaN   NaN   NaN   NaN  ...   \n",
      "94.9    NaN   NaN   NaN   NaN   NaN   NaN   NaN   NaN   NaN   NaN  ...   \n",
      "97.3    NaN   NaN   NaN   NaN   NaN   NaN  89.0   NaN   NaN   NaN  ...   \n",
      "97.4    NaN   NaN   NaN   NaN   NaN   NaN   NaN   NaN   NaN   NaN  ...   \n",
      "97.5    NaN   NaN   NaN   NaN   NaN   NaN   NaN   NaN   NaN   NaN  ...   \n",
      "98.9    NaN   NaN   NaN   NaN   NaN   NaN   NaN   NaN   NaN   NaN  ...   \n",
      "99.9    NaN   NaN   NaN   NaN   NaN   NaN   NaN   NaN   NaN   NaN  ...   \n",
      "100.0   NaN   NaN   NaN   NaN   NaN   NaN   NaN   NaN   NaN   NaN  ...   \n",
      "\n",
      "      full minimizes                                                        \n",
      "OPY3            74.6  75.3  75.4  76.6  82.3  83.9  87.4  87.9  92.9  95.4  \n",
      "BCG                                                                         \n",
      "82.3             NaN   NaN   NaN   NaN   NaN   NaN   NaN   NaN   NaN   NaN  \n",
      "82.4             NaN   NaN   NaN   NaN   NaN   NaN   NaN   NaN   NaN   NaN  \n",
      "86.0             NaN   NaN   NaN   NaN   NaN   NaN   NaN   NaN   NaN   NaN  \n",
      "87.4             NaN   NaN   NaN   NaN   NaN  73.2   NaN   NaN   NaN   NaN  \n",
      "90.0             NaN   NaN   NaN   NaN   NaN   NaN   NaN   NaN   NaN   NaN  \n",
      "91.2             NaN   NaN   NaN  65.9   NaN   NaN   NaN   NaN   NaN   NaN  \n",
      "91.6             NaN   NaN   NaN   NaN   NaN   NaN   NaN   NaN   NaN   NaN  \n",
      "91.7             NaN   NaN   NaN   NaN   NaN   NaN   NaN   NaN   NaN   NaN  \n",
      "92.5            62.6   NaN   NaN   NaN   NaN   NaN   NaN   NaN   NaN   NaN  \n",
      "92.8             NaN  62.2   NaN   NaN   NaN   NaN   NaN   NaN   NaN   NaN  \n",
      "92.9             NaN   NaN   NaN   NaN   NaN   NaN   NaN   NaN   NaN   NaN  \n",
      "94.9             NaN   NaN   NaN   NaN  69.7   NaN   NaN   NaN   NaN   NaN  \n",
      "97.3             NaN   NaN   NaN   NaN   NaN   NaN   NaN   NaN   NaN   NaN  \n",
      "97.4             NaN   NaN  68.1   NaN   NaN   NaN   NaN   NaN   NaN   NaN  \n",
      "97.5             NaN   NaN   NaN   NaN   NaN   NaN   NaN  84.4   NaN   NaN  \n",
      "98.9             NaN   NaN   NaN   NaN   NaN   NaN  83.0   NaN   NaN   NaN  \n",
      "99.9             NaN   NaN   NaN   NaN   NaN   NaN   NaN   NaN   NaN  91.3  \n",
      "100.0            NaN   NaN   NaN   NaN   NaN   NaN   NaN   NaN  88.4   NaN  \n",
      "\n",
      "[18 rows x 72 columns]\n"
     ]
    },
    {
     "name": "stderr",
     "output_type": "stream",
     "text": [
      "C:\\Users\\MADHUSUDHAN\\AppData\\Local\\Temp\\ipykernel_10736\\3059515841.py:1: FutureWarning: The operation <function mean at 0x000001A75221A020> failed on a column. If any error is raised, this will raise an exception in a future version of pandas. Drop these columns to avoid this warning.\n",
      "  pivot_table=df.pivot_table(index='BCG',columns='OPY3',aggfunc=np.mean)\n"
     ]
    }
   ],
   "source": [
    "pivot_table=df.pivot_table(index='BCG',aggfunc=np.mean)\n",
    "print(pivot_table)"
   ]
  },
  {
   "cell_type": "code",
   "execution_count": 39,
   "id": "20049988",
   "metadata": {},
   "outputs": [
    {
     "data": {
      "image/png": "[encoded data removed]",
      "text/plain": [
       "<Figure size 640x480 with 1 Axes>"
      ]
     },
     "metadata": {},
     "output_type": "display_data"
    }
   ],
   "source": [
    "df.plot(kind='bar')\n",
    "plt.show()"
   ]
  },
  {
   "cell_type": "code",
   "execution_count": null,
   "id": "7274ec74",
   "metadata": {},
   "outputs": [],
   "source": []
  }
 ],
 "metadata": {
  "kernelspec": {
   "display_name": "Python 3 (ipykernel)",
   "language": "python",
   "name": "python3"
  },
  "language_info": {
   "codemirror_mode": {
    "name": "ipython",
    "version": 3
   },
   "file_extension": ".py",
   "mimetype": "text/x-python",
   "name": "python",
   "nbconvert_exporter": "python",
   "pygments_lexer": "ipython3",
   "version": "3.11.4"
  }
 },
 "nbformat": 4,
 "nbformat_minor": 5
}
